{
 "nbformat": 4,
 "nbformat_minor": 2,
 "metadata": {
  "language_info": {
   "name": "python",
   "codemirror_mode": {
    "name": "ipython",
    "version": 3
   },
   "version": "3.8.1-final"
  },
  "orig_nbformat": 2,
  "file_extension": ".py",
  "mimetype": "text/x-python",
  "name": "python",
  "npconvert_exporter": "python",
  "pygments_lexer": "ipython3",
  "version": 3,
  "kernelspec": {
   "name": "python38164bitae1a7ec06a2b4227946eb98a430d50a3",
   "display_name": "Python 3.8.1 64-bit"
  }
 },
 "cells": [
  {
   "cell_type": "code",
   "execution_count": 30,
   "metadata": {},
   "outputs": [],
   "source": [
    "import pandas as pd\n",
    "import numpy as np\n",
    "import matplotlib.pyplot as plt\n",
    "from sklearn.linear_model import LinearRegression"
   ]
  },
  {
   "cell_type": "code",
   "execution_count": 56,
   "metadata": {},
   "outputs": [
    {
     "data": {
      "text/html": "<div>\n<style scoped>\n    .dataframe tbody tr th:only-of-type {\n        vertical-align: middle;\n    }\n\n    .dataframe tbody tr th {\n        vertical-align: top;\n    }\n\n    .dataframe thead th {\n        text-align: right;\n    }\n</style>\n<table border=\"1\" class=\"dataframe\">\n  <thead>\n    <tr style=\"text-align: right;\">\n      <th></th>\n      <th>pm2.5</th>\n      <th>DEWP</th>\n      <th>TEMP</th>\n      <th>PRES</th>\n      <th>cbwd</th>\n      <th>Iws</th>\n      <th>Is</th>\n      <th>Ir</th>\n    </tr>\n  </thead>\n  <tbody>\n    <tr>\n      <th>0</th>\n      <td>NaN</td>\n      <td>-21</td>\n      <td>-11.0</td>\n      <td>1021.0</td>\n      <td>NW</td>\n      <td>1.79</td>\n      <td>0</td>\n      <td>0</td>\n    </tr>\n    <tr>\n      <th>1</th>\n      <td>NaN</td>\n      <td>-21</td>\n      <td>-12.0</td>\n      <td>1020.0</td>\n      <td>NW</td>\n      <td>4.92</td>\n      <td>0</td>\n      <td>0</td>\n    </tr>\n    <tr>\n      <th>2</th>\n      <td>NaN</td>\n      <td>-21</td>\n      <td>-11.0</td>\n      <td>1019.0</td>\n      <td>NW</td>\n      <td>6.71</td>\n      <td>0</td>\n      <td>0</td>\n    </tr>\n    <tr>\n      <th>3</th>\n      <td>NaN</td>\n      <td>-21</td>\n      <td>-14.0</td>\n      <td>1019.0</td>\n      <td>NW</td>\n      <td>9.84</td>\n      <td>0</td>\n      <td>0</td>\n    </tr>\n    <tr>\n      <th>4</th>\n      <td>NaN</td>\n      <td>-20</td>\n      <td>-12.0</td>\n      <td>1018.0</td>\n      <td>NW</td>\n      <td>12.97</td>\n      <td>0</td>\n      <td>0</td>\n    </tr>\n  </tbody>\n</table>\n</div>",
      "text/plain": "   pm2.5  DEWP  TEMP    PRES cbwd    Iws  Is  Ir\n0    NaN   -21 -11.0  1021.0   NW   1.79   0   0\n1    NaN   -21 -12.0  1020.0   NW   4.92   0   0\n2    NaN   -21 -11.0  1019.0   NW   6.71   0   0\n3    NaN   -21 -14.0  1019.0   NW   9.84   0   0\n4    NaN   -20 -12.0  1018.0   NW  12.97   0   0"
     },
     "execution_count": 56,
     "metadata": {},
     "output_type": "execute_result"
    }
   ],
   "source": [
    "data = pd.read_csv('data.csv')\n",
    "data.drop([\"No\", \"year\", \"month\", \"day\", \"hour\",], axis=1, inplace=True)\n",
    "data.head()"
   ]
  },
  {
   "cell_type": "code",
   "execution_count": 138,
   "metadata": {},
   "outputs": [],
   "source": [
    "anslist = []\n",
    "names = []\n",
    "window_size = 4\n",
    "size = data.size\n",
    "for i in range (window_size,0,-1):\n",
    "    lst = data.shift(i)\n",
    "    anslist.append(lst)\n",
    "    names += [('var%d(t-%d)' % (j+1, i)) for j in range(window_size)]\n",
    "# pred =data.shift(-window_size).iloc[0]['TEMP']"
   ]
  },
  {
   "cell_type": "code",
   "execution_count": 139,
   "metadata": {},
   "outputs": [],
   "source": [
    "nd = pd.concat(anslist, axis=1)"
   ]
  },
  {
   "cell_type": "code",
   "execution_count": 142,
   "metadata": {},
   "outputs": [
    {
     "data": {
      "text/html": "<div>\n<style scoped>\n    .dataframe tbody tr th:only-of-type {\n        vertical-align: middle;\n    }\n\n    .dataframe tbody tr th {\n        vertical-align: top;\n    }\n\n    .dataframe thead th {\n        text-align: right;\n    }\n</style>\n<table border=\"1\" class=\"dataframe\">\n  <thead>\n    <tr style=\"text-align: right;\">\n      <th></th>\n      <th>pm2.5</th>\n      <th>DEWP</th>\n      <th>TEMP</th>\n      <th>PRES</th>\n      <th>cbwd</th>\n      <th>Iws</th>\n      <th>Is</th>\n      <th>Ir</th>\n      <th>pm2.5</th>\n      <th>DEWP</th>\n      <th>...</th>\n      <th>Is</th>\n      <th>Ir</th>\n      <th>pm2.5</th>\n      <th>DEWP</th>\n      <th>TEMP</th>\n      <th>PRES</th>\n      <th>cbwd</th>\n      <th>Iws</th>\n      <th>Is</th>\n      <th>Ir</th>\n    </tr>\n  </thead>\n  <tbody>\n    <tr>\n      <th>0</th>\n      <td>NaN</td>\n      <td>NaN</td>\n      <td>NaN</td>\n      <td>NaN</td>\n      <td>NaN</td>\n      <td>NaN</td>\n      <td>NaN</td>\n      <td>NaN</td>\n      <td>NaN</td>\n      <td>NaN</td>\n      <td>...</td>\n      <td>NaN</td>\n      <td>NaN</td>\n      <td>NaN</td>\n      <td>NaN</td>\n      <td>NaN</td>\n      <td>NaN</td>\n      <td>NaN</td>\n      <td>NaN</td>\n      <td>NaN</td>\n      <td>NaN</td>\n    </tr>\n    <tr>\n      <th>1</th>\n      <td>NaN</td>\n      <td>NaN</td>\n      <td>NaN</td>\n      <td>NaN</td>\n      <td>NaN</td>\n      <td>NaN</td>\n      <td>NaN</td>\n      <td>NaN</td>\n      <td>NaN</td>\n      <td>NaN</td>\n      <td>...</td>\n      <td>NaN</td>\n      <td>NaN</td>\n      <td>NaN</td>\n      <td>-21.0</td>\n      <td>-11.0</td>\n      <td>1021.0</td>\n      <td>NW</td>\n      <td>1.79</td>\n      <td>0.0</td>\n      <td>0.0</td>\n    </tr>\n    <tr>\n      <th>2</th>\n      <td>NaN</td>\n      <td>NaN</td>\n      <td>NaN</td>\n      <td>NaN</td>\n      <td>NaN</td>\n      <td>NaN</td>\n      <td>NaN</td>\n      <td>NaN</td>\n      <td>NaN</td>\n      <td>NaN</td>\n      <td>...</td>\n      <td>0.0</td>\n      <td>0.0</td>\n      <td>NaN</td>\n      <td>-21.0</td>\n      <td>-12.0</td>\n      <td>1020.0</td>\n      <td>NW</td>\n      <td>4.92</td>\n      <td>0.0</td>\n      <td>0.0</td>\n    </tr>\n    <tr>\n      <th>3</th>\n      <td>NaN</td>\n      <td>NaN</td>\n      <td>NaN</td>\n      <td>NaN</td>\n      <td>NaN</td>\n      <td>NaN</td>\n      <td>NaN</td>\n      <td>NaN</td>\n      <td>NaN</td>\n      <td>-21.0</td>\n      <td>...</td>\n      <td>0.0</td>\n      <td>0.0</td>\n      <td>NaN</td>\n      <td>-21.0</td>\n      <td>-11.0</td>\n      <td>1019.0</td>\n      <td>NW</td>\n      <td>6.71</td>\n      <td>0.0</td>\n      <td>0.0</td>\n    </tr>\n    <tr>\n      <th>4</th>\n      <td>NaN</td>\n      <td>-21.0</td>\n      <td>-11.0</td>\n      <td>1021.0</td>\n      <td>NW</td>\n      <td>1.79</td>\n      <td>0.0</td>\n      <td>0.0</td>\n      <td>NaN</td>\n      <td>-21.0</td>\n      <td>...</td>\n      <td>0.0</td>\n      <td>0.0</td>\n      <td>NaN</td>\n      <td>-21.0</td>\n      <td>-14.0</td>\n      <td>1019.0</td>\n      <td>NW</td>\n      <td>9.84</td>\n      <td>0.0</td>\n      <td>0.0</td>\n    </tr>\n    <tr>\n      <th>...</th>\n      <td>...</td>\n      <td>...</td>\n      <td>...</td>\n      <td>...</td>\n      <td>...</td>\n      <td>...</td>\n      <td>...</td>\n      <td>...</td>\n      <td>...</td>\n      <td>...</td>\n      <td>...</td>\n      <td>...</td>\n      <td>...</td>\n      <td>...</td>\n      <td>...</td>\n      <td>...</td>\n      <td>...</td>\n      <td>...</td>\n      <td>...</td>\n      <td>...</td>\n      <td>...</td>\n    </tr>\n    <tr>\n      <th>43819</th>\n      <td>11.0</td>\n      <td>-26.0</td>\n      <td>1.0</td>\n      <td>1032.0</td>\n      <td>NW</td>\n      <td>205.15</td>\n      <td>0.0</td>\n      <td>0.0</td>\n      <td>8.0</td>\n      <td>-23.0</td>\n      <td>...</td>\n      <td>0.0</td>\n      <td>0.0</td>\n      <td>10.0</td>\n      <td>-22.0</td>\n      <td>-2.0</td>\n      <td>1033.0</td>\n      <td>NW</td>\n      <td>226.16</td>\n      <td>0.0</td>\n      <td>0.0</td>\n    </tr>\n    <tr>\n      <th>43820</th>\n      <td>8.0</td>\n      <td>-23.0</td>\n      <td>0.0</td>\n      <td>1032.0</td>\n      <td>NW</td>\n      <td>214.09</td>\n      <td>0.0</td>\n      <td>0.0</td>\n      <td>9.0</td>\n      <td>-22.0</td>\n      <td>...</td>\n      <td>0.0</td>\n      <td>0.0</td>\n      <td>8.0</td>\n      <td>-23.0</td>\n      <td>-2.0</td>\n      <td>1034.0</td>\n      <td>NW</td>\n      <td>231.97</td>\n      <td>0.0</td>\n      <td>0.0</td>\n    </tr>\n    <tr>\n      <th>43821</th>\n      <td>9.0</td>\n      <td>-22.0</td>\n      <td>-1.0</td>\n      <td>1033.0</td>\n      <td>NW</td>\n      <td>221.24</td>\n      <td>0.0</td>\n      <td>0.0</td>\n      <td>10.0</td>\n      <td>-22.0</td>\n      <td>...</td>\n      <td>0.0</td>\n      <td>0.0</td>\n      <td>10.0</td>\n      <td>-22.0</td>\n      <td>-3.0</td>\n      <td>1034.0</td>\n      <td>NW</td>\n      <td>237.78</td>\n      <td>0.0</td>\n      <td>0.0</td>\n    </tr>\n    <tr>\n      <th>43822</th>\n      <td>10.0</td>\n      <td>-22.0</td>\n      <td>-2.0</td>\n      <td>1033.0</td>\n      <td>NW</td>\n      <td>226.16</td>\n      <td>0.0</td>\n      <td>0.0</td>\n      <td>8.0</td>\n      <td>-23.0</td>\n      <td>...</td>\n      <td>0.0</td>\n      <td>0.0</td>\n      <td>10.0</td>\n      <td>-22.0</td>\n      <td>-3.0</td>\n      <td>1034.0</td>\n      <td>NW</td>\n      <td>242.70</td>\n      <td>0.0</td>\n      <td>0.0</td>\n    </tr>\n    <tr>\n      <th>43823</th>\n      <td>8.0</td>\n      <td>-23.0</td>\n      <td>-2.0</td>\n      <td>1034.0</td>\n      <td>NW</td>\n      <td>231.97</td>\n      <td>0.0</td>\n      <td>0.0</td>\n      <td>10.0</td>\n      <td>-22.0</td>\n      <td>...</td>\n      <td>0.0</td>\n      <td>0.0</td>\n      <td>8.0</td>\n      <td>-22.0</td>\n      <td>-4.0</td>\n      <td>1034.0</td>\n      <td>NW</td>\n      <td>246.72</td>\n      <td>0.0</td>\n      <td>0.0</td>\n    </tr>\n  </tbody>\n</table>\n<p>43824 rows × 32 columns</p>\n</div>",
      "text/plain": "      pm2.5  DEWP  TEMP    PRES  cbwd     Iws   Is   Ir pm2.5  DEWP  ...   Is  \\\n0       NaN   NaN   NaN     NaN   NaN     NaN  NaN  NaN   NaN   NaN  ...  NaN   \n1       NaN   NaN   NaN     NaN   NaN     NaN  NaN  NaN   NaN   NaN  ...  NaN   \n2       NaN   NaN   NaN     NaN   NaN     NaN  NaN  NaN   NaN   NaN  ...  0.0   \n3       NaN   NaN   NaN     NaN   NaN     NaN  NaN  NaN   NaN -21.0  ...  0.0   \n4       NaN -21.0 -11.0  1021.0    NW    1.79  0.0  0.0   NaN -21.0  ...  0.0   \n...     ...   ...   ...     ...   ...     ...  ...  ...   ...   ...  ...  ...   \n43819  11.0 -26.0   1.0  1032.0    NW  205.15  0.0  0.0   8.0 -23.0  ...  0.0   \n43820   8.0 -23.0   0.0  1032.0    NW  214.09  0.0  0.0   9.0 -22.0  ...  0.0   \n43821   9.0 -22.0  -1.0  1033.0    NW  221.24  0.0  0.0  10.0 -22.0  ...  0.0   \n43822  10.0 -22.0  -2.0  1033.0    NW  226.16  0.0  0.0   8.0 -23.0  ...  0.0   \n43823   8.0 -23.0  -2.0  1034.0    NW  231.97  0.0  0.0  10.0 -22.0  ...  0.0   \n\n        Ir pm2.5  DEWP  TEMP    PRES  cbwd     Iws   Is   Ir  \n0      NaN   NaN   NaN   NaN     NaN   NaN     NaN  NaN  NaN  \n1      NaN   NaN -21.0 -11.0  1021.0    NW    1.79  0.0  0.0  \n2      0.0   NaN -21.0 -12.0  1020.0    NW    4.92  0.0  0.0  \n3      0.0   NaN -21.0 -11.0  1019.0    NW    6.71  0.0  0.0  \n4      0.0   NaN -21.0 -14.0  1019.0    NW    9.84  0.0  0.0  \n...    ...   ...   ...   ...     ...   ...     ...  ...  ...  \n43819  0.0  10.0 -22.0  -2.0  1033.0    NW  226.16  0.0  0.0  \n43820  0.0   8.0 -23.0  -2.0  1034.0    NW  231.97  0.0  0.0  \n43821  0.0  10.0 -22.0  -3.0  1034.0    NW  237.78  0.0  0.0  \n43822  0.0  10.0 -22.0  -3.0  1034.0    NW  242.70  0.0  0.0  \n43823  0.0   8.0 -22.0  -4.0  1034.0    NW  246.72  0.0  0.0  \n\n[43824 rows x 32 columns]"
     },
     "execution_count": 142,
     "metadata": {},
     "output_type": "execute_result"
    }
   ],
   "source": [
    "nd"
   ]
  },
  {
   "cell_type": "code",
   "execution_count": null,
   "metadata": {},
   "outputs": [],
   "source": []
  }
 ]
}